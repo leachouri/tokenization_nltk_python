{
  "nbformat": 4,
  "nbformat_minor": 0,
  "metadata": {
    "colab": {
      "provenance": []
    },
    "kernelspec": {
      "name": "python3",
      "display_name": "Python 3"
    },
    "language_info": {
      "name": "python"
    }
  },
  "cells": [
    {
      "cell_type": "code",
      "execution_count": null,
      "metadata": {
        "colab": {
          "base_uri": "https://localhost:8080/"
        },
        "id": "7enUfEgBJyWg",
        "outputId": "9b13d3b3-174e-4d03-a9bc-03435ad72dec"
      },
      "outputs": [
        {
          "output_type": "stream",
          "name": "stdout",
          "text": [
            "h\n",
            "\n",
            " train_list_sentences (raw sentences) \n",
            " ['I love my countryI love my universityYou love my countryDo you think my country and my university are wonderful !']\n",
            "\n",
            " Tokenizer.word_index = vocabulary :\n",
            " {'<OOV>': 1, 'my': 2, 'love': 3, 'i': 4, 'countryi': 5, 'universityyou': 6, 'countrydo': 7, 'you': 8, 'think': 9, 'country': 10, 'and': 11, 'university': 12, 'are': 13, 'wonderful': 14}\n",
            "\n",
            " len(Tokenizer.word_index) = vocab size :\n",
            " 14\n",
            "\n",
            " Tokenizer.word_counts :\n",
            " OrderedDict([('i', 1), ('love', 3), ('my', 5), ('countryi', 1), ('universityyou', 1), ('countrydo', 1), ('you', 1), ('think', 1), ('country', 1), ('and', 1), ('university', 1), ('are', 1), ('wonderful', 1)])\n",
            "\n",
            " Tokenizer.word_docs = doc frequency :\n",
            " OrderedDict([('i', 1), ('love', 3), ('my', 5), ('countryi', 1), ('universityyou', 1), ('countrydo', 1), ('you', 1), ('think', 1), ('country', 1), ('and', 1), ('university', 1), ('are', 1), ('wonderful', 1)])\n",
            "\n",
            " Tokenizer.document_count :\n",
            " 1\n"
          ]
        }
      ],
      "source": [
        "from tensorflow.keras.preprocessing.text import Tokenizer \n",
        "from tensorflow.keras.preprocessing.sequence import pad_sequences\n",
        "print(\"h\")\n",
        "\n",
        "#basic train set preprocessing wth tensorflow \n",
        "train_list_sentences = [\n",
        "    'I love my country'\n",
        "    'I love my university'\n",
        "    'You love my country'\n",
        "    'Do you think my country and my university are wonderful !'\n",
        " ]\n",
        "\n",
        "print(\"\\n train_list_sentences (raw sentences) \\n\",train_list_sentences)\n",
        "\n",
        "\n",
        "# Tokenizer(num_words=none, filters='!\"#$%&(*+,-./:;,?', lower=true, split='', char_level=false, oov_token=No)\"')\n",
        "tokenizer = Tokenizer(oov_token=\"<OOV>\") #oov stands for out of vocabulary (a.k.a UNKNOWN 'UNK')\n",
        "\n",
        "#fit the tokenzer on the train_list sentence (document)\n",
        "tokenizer.fit_on_texts(train_list_sentences)\n",
        "\n",
        "print(\"\\n Tokenizer.word_index = vocabulary :\\n\", tokenizer.word_index)\n",
        "print(\"\\n len(Tokenizer.word_index) = vocab size :\\n\", len(tokenizer.word_index))\n",
        "print(\"\\n Tokenizer.word_counts :\\n\", tokenizer.word_counts)\n",
        "print(\"\\n Tokenizer.word_docs = doc frequency :\\n\", tokenizer.word_counts)\n",
        "print(\"\\n Tokenizer.document_count :\\n\", tokenizer.document_count)\n",
        "\n"
      ]
    }
  ]
}